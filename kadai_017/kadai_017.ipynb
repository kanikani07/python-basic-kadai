{
  "nbformat": 4,
  "nbformat_minor": 0,
  "metadata": {
    "colab": {
      "provenance": []
    },
    "kernelspec": {
      "name": "python3",
      "display_name": "Python 3"
    },
    "language_info": {
      "name": "python"
    }
  },
  "cells": [
    {
      "cell_type": "code",
      "execution_count": 2,
      "metadata": {
        "colab": {
          "base_uri": "https://localhost:8080/"
        },
        "id": "Xi5qUcAzW5_H",
        "outputId": "58a868a7-9e2e-4c79-c1d2-199b0339dd57"
      },
      "outputs": [
        {
          "output_type": "stream",
          "name": "stdout",
          "text": [
            "Adult\n",
            "Adult\n",
            "Not Adult\n"
          ]
        }
      ],
      "source": [
        "class Human:\n",
        "    # コンストラクタを定義する\n",
        "    def __init__(self,name, age):\n",
        "        self.name = name\n",
        "        self.age = age\n",
        "\n",
        "    def checkadult(self):\n",
        "      if self.age>20:\n",
        "        print(\"Adult\")\n",
        "      else:\n",
        "        print(\"Not Adult\")\n",
        "\n",
        "\n",
        "# インスタンス化する\n",
        "human1 = Human(\"侍太郎\", 36)\n",
        "human2 =Human(\"侍花子\",25)\n",
        "human3=Human(\"侍の介\",15)\n",
        "#checkadultを呼び出す\n",
        "human1.checkadult()\n",
        "human2.checkadult()\n",
        "human3.checkadult()"
      ]
    }
  ]
}