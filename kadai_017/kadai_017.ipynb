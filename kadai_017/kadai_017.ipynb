{
  "nbformat": 4,
  "nbformat_minor": 0,
  "metadata": {
    "colab": {
      "provenance": []
    },
    "kernelspec": {
      "name": "python3",
      "display_name": "Python 3"
    },
    "language_info": {
      "name": "python"
    }
  },
  "cells": [
    {
      "cell_type": "code",
      "execution_count": 4,
      "metadata": {
        "colab": {
          "base_uri": "https://localhost:8080/"
        },
        "id": "Xi5qUcAzW5_H",
        "outputId": "00921c88-86e5-4af9-f20a-567b625023fa"
      },
      "outputs": [
        {
          "output_type": "stream",
          "name": "stdout",
          "text": [
            "侍太郎 is adult\n",
            "侍花子 is adult\n",
            "侍の介 is not adult\n"
          ]
        }
      ],
      "source": [
        "class Human:\n",
        "    # コンストラクタを定義する\n",
        "    def __init__(self,name, age):\n",
        "        self.name = name\n",
        "        self.age = age\n",
        "\n",
        "    def checkadult(self):\n",
        "      if self.age>20:\n",
        "        print(f\"{self.name} is adult\")\n",
        "      else:\n",
        "        print(f\"{self.name} is not adult\")\n",
        "\n",
        "#辞書を作成\n",
        "dict={}\n",
        "# インスタンス化する\n",
        "dict[1] = Human(\"侍太郎\", 36)\n",
        "dict[2] =Human(\"侍花子\",25)\n",
        "dict[3]=Human(\"侍の介\",15)\n",
        "#checkadultを呼び出す\n",
        "for i in dict:\n",
        "  dict[i].checkadult()"
      ]
    }
  ]
}