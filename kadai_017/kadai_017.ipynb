{
  "nbformat": 4,
  "nbformat_minor": 0,
  "metadata": {
    "colab": {
      "provenance": []
    },
    "kernelspec": {
      "name": "python3",
      "display_name": "Python 3"
    },
    "language_info": {
      "name": "python"
    }
  },
  "cells": [
    {
      "cell_type": "code",
      "execution_count": 8,
      "metadata": {
        "colab": {
          "base_uri": "https://localhost:8080/"
        },
        "id": "Xi5qUcAzW5_H",
        "outputId": "a9d63abf-c569-4023-d21c-d5cf7cbe0ba1"
      },
      "outputs": [
        {
          "output_type": "stream",
          "name": "stdout",
          "text": [
            "侍太郎 is adult\n",
            "侍花子 is adult\n",
            "侍の介 is not adult\n"
          ]
        }
      ],
      "source": [
        "from typing_extensions import Self\n",
        "class Human:\n",
        "    # コンストラクタを定義する\n",
        "    def __init__(self,name, age):\n",
        "        self.name = name\n",
        "        self.age = age\n",
        "\n",
        "    def checkadult(self):\n",
        "      if self.age>20:\n",
        "        print(f\"{self.name} is adult\")\n",
        "      else:\n",
        "        print(f\"{self.name} is not adult\")\n",
        "\n",
        "\n",
        "\n",
        "# インスタンス化する\n",
        "human1 = Human(\"侍太郎\", 36)\n",
        "human2 =Human(\"侍花子\",25)\n",
        "human3 = Human(\"侍の介\",15)\n",
        "#リストを作成\n",
        "list=[human1,human2,human3]\n",
        "#checkadultを呼び出す\n",
        "for i in list:\n",
        "  i.checkadult()"
      ]
    }
  ]
}