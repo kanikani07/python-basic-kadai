{
  "nbformat": 4,
  "nbformat_minor": 0,
  "metadata": {
    "colab": {
      "provenance": []
    },
    "kernelspec": {
      "name": "python3",
      "display_name": "Python 3"
    },
    "language_info": {
      "name": "python"
    }
  },
  "cells": [
    {
      "cell_type": "code",
      "execution_count": 5,
      "metadata": {
        "colab": {
          "base_uri": "https://localhost:8080/"
        },
        "id": "ucbaiY2JuLbP",
        "outputId": "4513e712-84a5-43cc-c043-f5d4b861feb8"
      },
      "outputs": [
        {
          "output_type": "stream",
          "name": "stdout",
          "text": [
            "75.0cm2\n"
          ]
        }
      ],
      "source": [
        "high=10\n",
        "low=20\n",
        "height=5\n",
        "area=(high+low)*height/2\n",
        "print(str(area)+\"cm2\")\n"
      ]
    }
  ]
}