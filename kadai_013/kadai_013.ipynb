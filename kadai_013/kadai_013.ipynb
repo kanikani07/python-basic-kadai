{
  "nbformat": 4,
  "nbformat_minor": 0,
  "metadata": {
    "colab": {
      "provenance": []
    },
    "kernelspec": {
      "name": "python3",
      "display_name": "Python 3"
    },
    "language_info": {
      "name": "python"
    }
  },
  "cells": [
    {
      "cell_type": "code",
      "execution_count": 12,
      "metadata": {
        "colab": {
          "base_uri": "https://localhost:8080/"
        },
        "id": "vLcSQucXcGjc",
        "outputId": "76e5637c-13e1-47ac-9861-f7dc545ff5f6"
      },
      "outputs": [
        {
          "output_type": "stream",
          "name": "stdout",
          "text": [
            "消費税込みの合計金額は110.0円\n"
          ]
        }
      ],
      "source": [
        "def CalculateTax(money,taxrate):\n",
        "  price=money+money*taxrate/100\n",
        "  return price\n",
        "money=100\n",
        "taxrate=10\n",
        "price=CalculateTax(100,10)\n",
        "print(price)"
      ]
    }
  ]
}